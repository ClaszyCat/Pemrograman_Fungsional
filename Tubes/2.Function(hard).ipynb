{
 "cells": [
  {
   "cell_type": "code",
   "execution_count": 7,
   "metadata": {},
   "outputs": [
    {
     "name": "stdout",
     "output_type": "stream",
     "text": [
      "True\n"
     ]
    }
   ],
   "source": [
    "def is_palindrome(string):\n",
    "    def bandingkan_karakter(depan, belakang):\n",
    "        if depan >= belakang:\n",
    "            return True\n",
    "        elif string[depan] == string[belakang]:\n",
    "            return bandingkan_karakter(depan + 1, belakang - 1)\n",
    "        else:\n",
    "            return False\n",
    "\n",
    "    return bandingkan_karakter(0, len(string) - 1)\n",
    "\n",
    "string_contoh = 'radar'\n",
    "hasil = is_palindrome(string_contoh)\n",
    "print(f\"{hasil}\")\n"
   ]
  }
 ],
 "metadata": {
  "kernelspec": {
   "display_name": "Python 3",
   "language": "python",
   "name": "python3"
  },
  "language_info": {
   "codemirror_mode": {
    "name": "ipython",
    "version": 3
   },
   "file_extension": ".py",
   "mimetype": "text/x-python",
   "name": "python",
   "nbconvert_exporter": "python",
   "pygments_lexer": "ipython3",
   "version": "3.10.5"
  }
 },
 "nbformat": 4,
 "nbformat_minor": 2
}
