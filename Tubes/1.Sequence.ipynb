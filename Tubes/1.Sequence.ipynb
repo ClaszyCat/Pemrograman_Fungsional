{
 "cells": [
  {
   "cell_type": "code",
   "execution_count": 3,
   "metadata": {},
   "outputs": [
    {
     "name": "stdout",
     "output_type": "stream",
     "text": [
      " ('Pensil', 1500, 'Buku', 5000, 'Penggaris', 2000)\n",
      " ['Pensil', 'Buku', 'Penggaris']  [1500, 5000, 2000]\n",
      " {'Pensil': 1500, 'Buku': 5000, 'Penggaris': 2000}\n"
     ]
    }
   ],
   "source": [
    "# 1. Data tuple:\n",
    "barang_harga_tuple = (\"Pensil\", 1500, \"Buku\", 5000, \"Penggaris\", 2000)\n",
    "\n",
    "# 2. Fungsi untuk memisahkan data tuple:\n",
    "def pisahkan_data(tup):\n",
    "    nama_barang = []\n",
    "    harga_barang = []\n",
    "\n",
    "    for i in range(0, len(tup), 2):\n",
    "        nama_barang.append(tup[i])\n",
    "        harga_barang.append(tup[i + 1])\n",
    "\n",
    "    return nama_barang, harga_barang\n",
    "\n",
    "# 3. Fungsi untuk membuat dictionary:\n",
    "def gabungkan_list_ke_dict(nama_barang, harga_barang):\n",
    "    hasil_dict = {}\n",
    "\n",
    "    for i in range(len(nama_barang)):\n",
    "        hasil_dict[nama_barang[i]] = harga_barang[i]\n",
    "\n",
    "    return hasil_dict\n",
    "\n",
    "nama_barang_list, harga_barang_list = pisahkan_data(barang_harga_tuple)\n",
    "\n",
    "hasil_dict = gabungkan_list_ke_dict(nama_barang_list, harga_barang_list)\n",
    "\n",
    "# 4. Hasil:\n",
    "print(\"\", barang_harga_tuple)\n",
    "print(\"\", nama_barang_list,\"\", harga_barang_list)\n",
    "print(\"\", hasil_dict)\n"
   ]
  }
 ],
 "metadata": {
  "kernelspec": {
   "display_name": "Python 3",
   "language": "python",
   "name": "python3"
  },
  "language_info": {
   "codemirror_mode": {
    "name": "ipython",
    "version": 3
   },
   "file_extension": ".py",
   "mimetype": "text/x-python",
   "name": "python",
   "nbconvert_exporter": "python",
   "pygments_lexer": "ipython3",
   "version": "3.10.5"
  }
 },
 "nbformat": 4,
 "nbformat_minor": 2
}
