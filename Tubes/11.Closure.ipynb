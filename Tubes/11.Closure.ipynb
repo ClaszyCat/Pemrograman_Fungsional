{
 "cells": [
  {
   "cell_type": "code",
   "execution_count": 1,
   "metadata": {},
   "outputs": [
    {
     "name": "stdout",
     "output_type": "stream",
     "text": [
      "Hasil pangkat dua sama dengan =  4\n",
      "Hasil pangkat dua sama dengan =  27\n"
     ]
    }
   ],
   "source": [
    "def hitung_pangkat(n):\n",
    "    def pangkat(x):\n",
    "        return x ** n\n",
    "    \n",
    "    return pangkat\n",
    "\n",
    "pangkat_dua = hitung_pangkat(2)\n",
    "pangkat_tiga = hitung_pangkat(3)\n",
    "\n",
    "hasil_pangkat_dua = pangkat_dua(2)\n",
    "hasil_pangkat_tiga = pangkat_tiga(3)\n",
    "\n",
    "print(\"Hasil pangkat dua sama dengan = \", hasil_pangkat_dua)\n",
    "print(\"Hasil pangkat tiga sama dengan = \", hasil_pangkat_tiga)\n"
   ]
  }
 ],
 "metadata": {
  "kernelspec": {
   "display_name": "Python 3",
   "language": "python",
   "name": "python3"
  },
  "language_info": {
   "codemirror_mode": {
    "name": "ipython",
    "version": 3
   },
   "file_extension": ".py",
   "mimetype": "text/x-python",
   "name": "python",
   "nbconvert_exporter": "python",
   "pygments_lexer": "ipython3",
   "version": "3.10.5"
  }
 },
 "nbformat": 4,
 "nbformat_minor": 2
}
