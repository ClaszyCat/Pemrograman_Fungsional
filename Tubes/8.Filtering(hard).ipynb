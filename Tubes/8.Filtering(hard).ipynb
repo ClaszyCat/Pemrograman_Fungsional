{
 "cells": [
  {
   "cell_type": "code",
   "execution_count": 1,
   "metadata": {},
   "outputs": [
    {
     "name": "stdout",
     "output_type": "stream",
     "text": [
      "Data: ['Ada', 'apa', 'dengan', 'si', 'Rafidhiya', 'Bagus', 'Farizki']\n",
      "Palindrome: ['Ada', 'apa']\n",
      "Non-palindrome: ['dengan', 'si', 'Rafidhiya', 'Bagus', 'Farizki']\n"
     ]
    }
   ],
   "source": [
    "def is_palindrome(word):\n",
    "    cleaned_word = \"\".join(char.lower() for char in word if char.isalnum())\n",
    "    return cleaned_word == cleaned_word[::-1]\n",
    "\n",
    "def filter_palindromes(sentence):\n",
    "    words = sentence.split()\n",
    "    palindromes = list(filter(is_palindrome, words))\n",
    "    non_palindromes = list(filter(lambda x: not is_palindrome(x), words))\n",
    "    return palindromes, non_palindromes\n",
    "\n",
    "kalimat = 'Ada apa dengan si Rafidhiya Bagus Farizki' \n",
    "hasil_palindrome, hasil_non_palindrome = filter_palindromes(kalimat)\n",
    "\n",
    "print(\"Data:\", kalimat.split())\n",
    "print(\"Palindrome:\", hasil_palindrome)\n",
    "print(\"Non-palindrome:\",hasil_non_palindrome)\n"
   ]
  }
 ],
 "metadata": {
  "kernelspec": {
   "display_name": "Python 3",
   "language": "python",
   "name": "python3"
  },
  "language_info": {
   "codemirror_mode": {
    "name": "ipython",
    "version": 3
   },
   "file_extension": ".py",
   "mimetype": "text/x-python",
   "name": "python",
   "nbconvert_exporter": "python",
   "pygments_lexer": "ipython3",
   "version": "3.10.5"
  }
 },
 "nbformat": 4,
 "nbformat_minor": 2
}
