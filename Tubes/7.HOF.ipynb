{
 "cells": [
  {
   "cell_type": "code",
   "execution_count": 2,
   "metadata": {},
   "outputs": [
    {
     "name": "stdout",
     "output_type": "stream",
     "text": [
      "Hasil: -2\n"
     ]
    }
   ],
   "source": [
    "def sisagold(a, b, fungsi_operasi):\n",
    "    return fungsi_operasi(a, b) if a % 2 == 0 else None\n",
    "\n",
    "def kurang(x, y):\n",
    "    return x - y\n",
    "\n",
    "hasil = sisagold(2, 4, kurang)\n",
    "print(\"Hasil:\", hasil)\n"
   ]
  }
 ],
 "metadata": {
  "kernelspec": {
   "display_name": "Python 3",
   "language": "python",
   "name": "python3"
  },
  "language_info": {
   "codemirror_mode": {
    "name": "ipython",
    "version": 3
   },
   "file_extension": ".py",
   "mimetype": "text/x-python",
   "name": "python",
   "nbconvert_exporter": "python",
   "pygments_lexer": "ipython3",
   "version": "3.10.5"
  }
 },
 "nbformat": 4,
 "nbformat_minor": 2
}
