{
 "cells": [
  {
   "cell_type": "code",
   "execution_count": 3,
   "metadata": {},
   "outputs": [
    {
     "name": "stdout",
     "output_type": "stream",
     "text": [
      "5 adalah angka Positif\n",
      "Angka 3 found\n"
     ]
    }
   ],
   "source": [
    "klasifikasi_angka = lambda x: \"Positif\" if x > 0 else (\"Negatif\" if x < 0 else \"Nol\")\n",
    "pencarian_angka = lambda list_angka, find: \"found\" if find in list_angka else \"not found\"\n",
    "\n",
    "angka = 5\n",
    "hasil_klasifikasi = klasifikasi_angka(angka)\n",
    "print(f\"{angka} adalah angka {hasil_klasifikasi}\")\n",
    "\n",
    "list_angka = [1, 2, 3, 4, 5]\n",
    "angka_cari = 3\n",
    "hasil_pencarian = pencarian_angka(list_angka, angka_cari)\n",
    "print(f\"Angka {angka_cari} {hasil_pencarian}\")"
   ]
  }
 ],
 "metadata": {
  "kernelspec": {
   "display_name": "Python 3",
   "language": "python",
   "name": "python3"
  },
  "language_info": {
   "codemirror_mode": {
    "name": "ipython",
    "version": 3
   },
   "file_extension": ".py",
   "mimetype": "text/x-python",
   "name": "python",
   "nbconvert_exporter": "python",
   "pygments_lexer": "ipython3",
   "version": "3.10.5"
  }
 },
 "nbformat": 4,
 "nbformat_minor": 2
}
